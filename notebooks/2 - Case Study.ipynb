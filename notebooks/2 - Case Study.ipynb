{
 "cells": [
  {
   "cell_type": "markdown",
   "metadata": {},
   "source": [
    "<hr>\n",
    "# PYTHON FOR DATA SCIENCE\n",
    "### Exploring a Real World Example\n",
    "\n",
    "#Agenda\n",
    "\n",
    "- <p style=\"color: red\">Define the problem and the approach</p>\n",
    "- Data basics: loading data, looking at your data, basic commands\n",
    "- Handling missing values\n",
    "- Intro to scikit-learn\n",
    "- Grouping and aggregating data\n",
    "- Feature selection\n",
    "- Fitting and evaluating a model\n",
    "- Deploying your work\n"
   ]
  },
  {
   "cell_type": "markdown",
   "metadata": {},
   "source": [
    "##In this notebook you will\n",
    "\n",
    "- Determine if the problem is worth solving\n",
    "- Define an approach\n",
    "- Develop a workflow outline"
   ]
  },
  {
   "cell_type": "markdown",
   "metadata": {},
   "source": [
    "<hr>\n",
    "## Revisiting Kaggle's Give Me Some Credit Competition\n",
    "\n",
    "### Intro\n",
    "\n",
    "#### We'll be exploring an age-old prediction problem--predicting risk on consumer loans.\n",
    "\n",
    "#### We've selected this topic as a case study because the problem is well-defined and familiar to most people. Additionally, this is a binary classification problem, so the strategies we apply should be relatively extensible to other problems you may encounter totally unrelated to credit and finance.\n",
    "\n",
    "### About the data\n",
    "\n",
    "The data is made available to us by Kaggle and was used in a competition in 2011.\n",
    "\n",
    "[http://www.kaggle.com/c/GiveMeSomeCredit](http://www.kaggle.com/c/GiveMeSomeCredit)\n",
    "\n",
    "### About the prediction problem\n",
    "\n",
    "Predict the probability that somebody will experience financial distress in the next two years."
   ]
  },
  {
   "cell_type": "markdown",
   "metadata": {},
   "source": [
    "## Developing an understanding of the data and the problem\n",
    "\n",
    "#### Key questions we'll need to keep in mind\n",
    "\n",
    "- How do losses occur?\n",
    "- What are the characteristics that constitute credit default?\n",
    "- How often do people \"go bad?\"\n",
    "- How might we improve loss rates?"
   ]
  },
  {
   "cell_type": "code",
   "execution_count": 149,
   "metadata": {
    "collapsed": false
   },
   "outputs": [
    {
     "name": "stdout",
     "output_type": "stream",
     "text": [
      "SeriousDlqin2yrs                          int64\n",
      "RevolvingUtilizationOfUnsecuredLines    float64\n",
      "age                                       int64\n",
      "NumberOfTime30-59DaysPastDueNotWorse      int64\n",
      "DebtRatio                               float64\n",
      "MonthlyIncome                           float64\n",
      "NumberOfOpenCreditLinesAndLoans           int64\n",
      "NumberOfTimes90DaysLate                   int64\n",
      "NumberRealEstateLoansOrLines              int64\n",
      "NumberOfTime60-89DaysPastDueNotWorse      int64\n",
      "NumberOfDependents                      float64\n",
      "dtype: object\n",
      "SeriousDlqin2yrs                        False\n",
      "RevolvingUtilizationOfUnsecuredLines    False\n",
      "age                                     False\n",
      "NumberOfTime30-59DaysPastDueNotWorse    False\n",
      "DebtRatio                               False\n",
      "MonthlyIncome                            True\n",
      "NumberOfOpenCreditLinesAndLoans         False\n",
      "NumberOfTimes90DaysLate                 False\n",
      "NumberRealEstateLoansOrLines            False\n",
      "NumberOfTime60-89DaysPastDueNotWorse    False\n",
      "NumberOfDependents                       True\n",
      "dtype: bool\n",
      "(150000, 11)\n",
      "# null values in MonthlyIncome: 29731\n",
      "# null values in NumberOfDependents: 3924\n",
      "<class 'pandas.core.frame.DataFrame'>\n",
      "Int64Index: 150000 entries, 0 to 149999\n",
      "Data columns (total 11 columns):\n",
      "SeriousDlqin2yrs                        150000 non-null int64\n",
      "RevolvingUtilizationOfUnsecuredLines    150000 non-null float64\n",
      "age                                     150000 non-null int64\n",
      "NumberOfTime30-59DaysPastDueNotWorse    150000 non-null int64\n",
      "DebtRatio                               150000 non-null float64\n",
      "MonthlyIncome                           120269 non-null float64\n",
      "NumberOfOpenCreditLinesAndLoans         150000 non-null int64\n",
      "NumberOfTimes90DaysLate                 150000 non-null int64\n",
      "NumberRealEstateLoansOrLines            150000 non-null int64\n",
      "NumberOfTime60-89DaysPastDueNotWorse    150000 non-null int64\n",
      "NumberOfDependents                      146076 non-null float64\n",
      "dtypes: float64(4), int64(7)\n",
      "memory usage: 13.7 MB\n"
     ]
    }
   ],
   "source": [
    "import pandas as pd\n",
    "df = pd.read_csv(\"./data/credit-training.csv\")\n",
    "\n",
    "\n",
    "# \n",
    "# Column Types?\n",
    "print df.dtypes\n",
    "\n",
    "# Missing Value?\n",
    "# find columns that have null values\n",
    "print df.isnull().any(axis=0)\n",
    "# looks like MonthlyIncome has a lot of missing value\n",
    "print df.shape\n",
    "print \"# null values in MonthlyIncome: %i\" % df['MonthlyIncome'].isnull().sum()\n",
    "print \"# null values in NumberOfDependents: %i\" % sum(df['NumberOfDependents'].isnull() == True)\n",
    "df[df.isnull().any(axis=1)]\n",
    "\n",
    "# Summary?\n",
    "df.describe()\n",
    "df.info() # info() is a faster way to spot null values\n"
   ]
  },
  {
   "cell_type": "code",
   "execution_count": 150,
   "metadata": {
    "collapsed": false,
    "scrolled": true
   },
   "outputs": [
    {
     "name": "stdout",
     "output_type": "stream",
     "text": [
      "13\n",
      "[  2.   1.   0.  nan   3.   4.   5.   6.   8.   7.  20.  10.   9.  13.]\n",
      "column SeriousDlqin2yrs\n",
      "0    139974\n",
      "1     10026\n",
      "dtype: int64\n",
      "column RevolvingUtilizationOfUnsecuredLines\n",
      "0.000000    10878\n",
      "1.000000    10256\n",
      "1.000000       17\n",
      "0.950100        8\n",
      "0.954092        6\n",
      "dtype: int64\n",
      "column age\n",
      "49    3837\n",
      "48    3806\n",
      "50    3753\n",
      "63    3719\n",
      "47    3719\n",
      "dtype: int64\n",
      "column NumberOfTime30-59DaysPastDueNotWorse\n",
      "0    126018\n",
      "1     16033\n",
      "2      4598\n",
      "3      1754\n",
      "4       747\n",
      "dtype: int64\n",
      "column DebtRatio\n",
      "0    4113\n",
      "1     229\n",
      "4     174\n",
      "2     170\n",
      "3     162\n",
      "dtype: int64\n",
      "column MonthlyIncome\n",
      "5000    2757\n",
      "4000    2106\n",
      "6000    1934\n",
      "3000    1758\n",
      "0       1634\n",
      "dtype: int64\n",
      "column NumberOfOpenCreditLinesAndLoans\n",
      "6    13614\n",
      "7    13245\n",
      "5    12931\n",
      "8    12562\n",
      "4    11609\n",
      "dtype: int64\n",
      "column NumberOfTimes90DaysLate\n",
      "0    141662\n",
      "1      5243\n",
      "2      1555\n",
      "3       667\n",
      "4       291\n",
      "dtype: int64\n",
      "column NumberRealEstateLoansOrLines\n",
      "0    56188\n",
      "1    52338\n",
      "2    31522\n",
      "3     6300\n",
      "4     2170\n",
      "dtype: int64\n",
      "column NumberOfTime60-89DaysPastDueNotWorse\n",
      "0     142396\n",
      "1       5731\n",
      "2       1118\n",
      "3        318\n",
      "98       264\n",
      "dtype: int64\n",
      "column NumberOfDependents\n",
      "0    86902\n",
      "1    26316\n",
      "2    19522\n",
      "3     9483\n",
      "4     2862\n",
      "dtype: int64\n"
     ]
    }
   ],
   "source": [
    "# inspect unique and unique counts\n",
    "print df['NumberOfDependents'].nunique()\n",
    "print df['NumberOfDependents'].unique()\n",
    "\n",
    "for col in df.columns:\n",
    "    print \"column %s\" % col\n",
    "    print df[col].value_counts(sort=True).head(5)"
   ]
  },
  {
   "cell_type": "code",
   "execution_count": 151,
   "metadata": {
    "collapsed": false
   },
   "outputs": [
    {
     "name": "stdout",
     "output_type": "stream",
     "text": [
      "0    139974\n",
      "1     10026\n",
      "dtype: int64\n",
      "SeriousDlqin2yrs        0     1\n",
      "NumberOfDependents             \n",
      "0                   81807  5095\n",
      "1                   24381  1935\n",
      "2                   17938  1584\n",
      "3                    8646   837\n",
      "4                    2565   297\n",
      "5                     678    68\n",
      "6                     134    24\n",
      "7                      46     5\n",
      "8                      22     2\n",
      "9                       5     0\n",
      "10                      5     0\n",
      "13                      1     0\n",
      "20                      1     0\n"
     ]
    }
   ],
   "source": [
    "# crosstab is powerful\n",
    "print df['SeriousDlqin2yrs'].value_counts()\n",
    "print pd.crosstab(df['NumberOfDependents'],df['SeriousDlqin2yrs'])"
   ]
  },
  {
   "cell_type": "code",
   "execution_count": 152,
   "metadata": {
    "collapsed": false
   },
   "outputs": [
    {
     "data": {
      "text/plain": [
       "['serious_dlqin2yrs',\n",
       " 'revolving_utilization_of_unsecured_lines',\n",
       " 'age',\n",
       " 'number_of_time30-59_days_past_due_not_worse',\n",
       " 'debt_ratio',\n",
       " 'monthly_income',\n",
       " 'number_of_open_credit_lines_and_loans',\n",
       " 'number_of_times90_days_late',\n",
       " 'number_real_estate_loans_or_lines',\n",
       " 'number_of_time60-89_days_past_due_not_worse',\n",
       " 'number_of_dependents']"
      ]
     },
     "execution_count": 152,
     "metadata": {},
     "output_type": "execute_result"
    }
   ],
   "source": [
    "# Basic cleaning\n",
    "import re\n",
    "def camel_to_snake(column_name):\n",
    "    \"\"\"\n",
    "    converts a string that is camelCase into snake_case\n",
    "    Example:\n",
    "        print camel_to_snake(\"javaLovesCamelCase\")\n",
    "        > java_loves_camel_case\n",
    "    See Also:\n",
    "        http://stackoverflow.com/questions/1175208/elegant-python-function-to-convert-camelcase-to-camel-case\n",
    "    \"\"\"\n",
    "    s1 = re.sub('(.)([A-Z][a-z]+)', r'\\1_\\2', column_name)\n",
    "    return re.sub('([a-z0-9])([A-Z])', r'\\1_\\2', s1).lower()\n",
    "\n",
    "df.columns = [camel_to_snake(col) for col in df.columns]\n",
    "df.columns.tolist()"
   ]
  },
  {
   "cell_type": "code",
   "execution_count": 66,
   "metadata": {
    "collapsed": false
   },
   "outputs": [],
   "source": [
    "# Basic filtering\n",
    "#mask = (df.age >= 35) & (df.serious_dlqin2yrs==0) & (df.number_of_open_credit_lines_and_loans < 10)\n"
   ]
  },
  {
   "cell_type": "code",
   "execution_count": 153,
   "metadata": {
    "collapsed": false
   },
   "outputs": [
    {
     "name": "stdout",
     "output_type": "stream",
     "text": [
      "33655\n"
     ]
    },
    {
     "data": {
      "text/html": [
       "<div style=\"max-height:1000px;max-width:1500px;overflow:auto;\">\n",
       "<table border=\"1\" class=\"dataframe\">\n",
       "  <thead>\n",
       "    <tr style=\"text-align: right;\">\n",
       "      <th>value</th>\n",
       "      <th>False</th>\n",
       "      <th>True</th>\n",
       "    </tr>\n",
       "    <tr>\n",
       "      <th>variable</th>\n",
       "      <th></th>\n",
       "      <th></th>\n",
       "    </tr>\n",
       "  </thead>\n",
       "  <tbody>\n",
       "    <tr>\n",
       "      <th>age</th>\n",
       "      <td> 150000</td>\n",
       "      <td>     0</td>\n",
       "    </tr>\n",
       "    <tr>\n",
       "      <th>debt_ratio</th>\n",
       "      <td> 150000</td>\n",
       "      <td>     0</td>\n",
       "    </tr>\n",
       "    <tr>\n",
       "      <th>monthly_income</th>\n",
       "      <td> 120269</td>\n",
       "      <td> 29731</td>\n",
       "    </tr>\n",
       "    <tr>\n",
       "      <th>number_of_dependents</th>\n",
       "      <td> 146076</td>\n",
       "      <td>  3924</td>\n",
       "    </tr>\n",
       "    <tr>\n",
       "      <th>number_of_open_credit_lines_and_loans</th>\n",
       "      <td> 150000</td>\n",
       "      <td>     0</td>\n",
       "    </tr>\n",
       "    <tr>\n",
       "      <th>number_of_time30-59_days_past_due_not_worse</th>\n",
       "      <td> 150000</td>\n",
       "      <td>     0</td>\n",
       "    </tr>\n",
       "    <tr>\n",
       "      <th>number_of_time60-89_days_past_due_not_worse</th>\n",
       "      <td> 150000</td>\n",
       "      <td>     0</td>\n",
       "    </tr>\n",
       "    <tr>\n",
       "      <th>number_of_times90_days_late</th>\n",
       "      <td> 150000</td>\n",
       "      <td>     0</td>\n",
       "    </tr>\n",
       "    <tr>\n",
       "      <th>number_real_estate_loans_or_lines</th>\n",
       "      <td> 150000</td>\n",
       "      <td>     0</td>\n",
       "    </tr>\n",
       "    <tr>\n",
       "      <th>revolving_utilization_of_unsecured_lines</th>\n",
       "      <td> 150000</td>\n",
       "      <td>     0</td>\n",
       "    </tr>\n",
       "    <tr>\n",
       "      <th>serious_dlqin2yrs</th>\n",
       "      <td> 150000</td>\n",
       "      <td>     0</td>\n",
       "    </tr>\n",
       "  </tbody>\n",
       "</table>\n",
       "</div>"
      ],
      "text/plain": [
       "value                                         False  True \n",
       "variable                                                  \n",
       "age                                          150000      0\n",
       "debt_ratio                                   150000      0\n",
       "monthly_income                               120269  29731\n",
       "number_of_dependents                         146076   3924\n",
       "number_of_open_credit_lines_and_loans        150000      0\n",
       "number_of_time30-59_days_past_due_not_worse  150000      0\n",
       "number_of_time60-89_days_past_due_not_worse  150000      0\n",
       "number_of_times90_days_late                  150000      0\n",
       "number_real_estate_loans_or_lines            150000      0\n",
       "revolving_utilization_of_unsecured_lines     150000      0\n",
       "serious_dlqin2yrs                            150000      0"
      ]
     },
     "execution_count": 153,
     "metadata": {},
     "output_type": "execute_result"
    }
   ],
   "source": [
    "# Now we are official onto handling missing value...\n",
    "#?pd.melt\n",
    "# another way to count missing data\n",
    "df_lng = pd.melt(df)\n",
    "null_vals = df_lng.value.isnull()\n",
    "print null_vals.sum() \n",
    "pd.crosstab(df_lng.variable, null_vals)\n"
   ]
  },
  {
   "cell_type": "code",
   "execution_count": 154,
   "metadata": {
    "collapsed": false
   },
   "outputs": [
    {
     "name": "stdout",
     "output_type": "stream",
     "text": [
      "300000\n"
     ]
    }
   ],
   "source": [
    "# a toy example of melt\n",
    "melted = pd.melt(df, id_vars=[\"serious_dlqin2yrs\"], value_vars=[\"age\", \"debt_ratio\"])\n",
    "print len(melted)"
   ]
  },
  {
   "cell_type": "code",
   "execution_count": 94,
   "metadata": {
    "collapsed": false
   },
   "outputs": [
    {
     "data": {
      "text/plain": [
       "0    1.000000\n",
       "1    2.000000\n",
       "2    2.333333\n",
       "3    4.000000\n",
       "dtype: float64"
      ]
     },
     "execution_count": 94,
     "metadata": {},
     "output_type": "execute_result"
    }
   ],
   "source": [
    "# pandas provides different ways to fill missing value\n",
    "s = pd.Series([1, 2, None, 4])\n",
    "s.fillna(3)\n",
    "s.bfill()\n",
    "s.ffill()\n",
    "s.fillna(s.mean())"
   ]
  },
  {
   "cell_type": "code",
   "execution_count": 155,
   "metadata": {
    "collapsed": false
   },
   "outputs": [
    {
     "name": "stdout",
     "output_type": "stream",
     "text": [
      "<class 'pandas.core.frame.DataFrame'>\n",
      "Int64Index: 150000 entries, 0 to 149999\n",
      "Data columns (total 11 columns):\n",
      "serious_dlqin2yrs                              150000 non-null int64\n",
      "revolving_utilization_of_unsecured_lines       150000 non-null float64\n",
      "age                                            150000 non-null int64\n",
      "number_of_time30-59_days_past_due_not_worse    150000 non-null int64\n",
      "debt_ratio                                     150000 non-null float64\n",
      "monthly_income                                 120269 non-null float64\n",
      "number_of_open_credit_lines_and_loans          150000 non-null int64\n",
      "number_of_times90_days_late                    150000 non-null int64\n",
      "number_real_estate_loans_or_lines              150000 non-null int64\n",
      "number_of_time60-89_days_past_due_not_worse    150000 non-null int64\n",
      "number_of_dependents                           150000 non-null float64\n",
      "dtypes: float64(4), int64(7)\n",
      "memory usage: 13.7 MB\n"
     ]
    }
   ],
   "source": [
    "# handle number_of_dependents\n",
    "df.number_of_dependents.value_counts()\n",
    "# we naively fill the missing value with the mode \n",
    "df.number_of_dependents = df.number_of_dependents.fillna(0)\n",
    "df.info()"
   ]
  },
  {
   "cell_type": "code",
   "execution_count": 164,
   "metadata": {
    "collapsed": false
   },
   "outputs": [
    {
     "name": "stdout",
     "output_type": "stream",
     "text": [
      "112524 37476\n"
     ]
    }
   ],
   "source": [
    "# we need to take care of monthly_income more sophisticatedly..\n",
    "\n",
    "# the naive method is to simply fill with median or mean\n",
    "df.monthly_income.describe()\n",
    "\n",
    "import numpy as np\n",
    "# use imputation: we try to infer the value from other columns\n",
    "# split data into train and test\n",
    "is_test = np.random.uniform(0, 1, len(df)) > 0.75\n",
    "train = df[is_test==False]\n",
    "test = df[is_test==True]\n",
    "print len(train), len(test)\n",
    "# remember to apply the imputer to the test data"
   ]
  },
  {
   "cell_type": "code",
   "execution_count": 201,
   "metadata": {
    "collapsed": false
   },
   "outputs": [
    {
     "name": "stdout",
     "output_type": "stream",
     "text": [
      "0.0478125755667\n",
      "0.00680687486842\n"
     ]
    }
   ],
   "source": [
    "from sklearn.linear_model import LinearRegression\n",
    "from sklearn.neighbors import KNeighborsRegressor\n",
    "\n",
    "rows_train = train.monthly_income.notnull()\n",
    "rows_test = test.monthly_income.notnull()\n",
    "\n",
    "# get the correlation pairs\n",
    "train[rows_train].corr().ix[:, 5]\n",
    "\n",
    "\n",
    "# find the most correlated variables\n",
    "cols_x = ['number_of_open_credit_lines_and_loans', 'number_of_dependents', 'number_real_estate_loans_or_lines']\n",
    "\n",
    "train_not_null = train[cols_x][rows_train]\n",
    "test_not_null = test[cols_x][rows_test]\n",
    "\n",
    "\n",
    "lr = LinearRegression()\n",
    "lr.fit(train_not_null, train['monthly_income'][rows_train])\n",
    "print lr.score(test_not_null, test['monthly_income'][rows_test])\n",
    "# score: 0.0478125755667\n",
    "knn = KNeighborsRegressor(n_neighbors=120)\n",
    "knn.fit(train_not_null, train['monthly_income'][rows_train])\n",
    "print knn.score(test_not_null, test['monthly_income'][rows_test])\n",
    "# score: 0.00680687486842\n",
    "\n",
    "# use linear regression model as imputer"
   ]
  },
  {
   "cell_type": "code",
   "execution_count": 189,
   "metadata": {
    "collapsed": false
   },
   "outputs": [
    {
     "data": {
      "text/plain": [
       "serious_dlqin2yrs                             -0.018743\n",
       "revolving_utilization_of_unsecured_lines       0.002847\n",
       "age                                            0.034589\n",
       "number_of_time30-59_days_past_due_not_worse   -0.009318\n",
       "debt_ratio                                    -0.024013\n",
       "monthly_income                                 1.000000\n",
       "number_of_open_credit_lines_and_loans          0.084120\n",
       "number_of_times90_days_late                   -0.011705\n",
       "number_real_estate_loans_or_lines              0.115956\n",
       "number_of_time60-89_days_past_due_not_worse   -0.010197\n",
       "number_of_dependents                           0.057711\n",
       "Name: monthly_income, dtype: float64"
      ]
     },
     "execution_count": 189,
     "metadata": {},
     "output_type": "execute_result"
    }
   ],
   "source": [
    "train[rows_train].corr().ix[:, 5]"
   ]
  },
  {
   "cell_type": "code",
   "execution_count": 203,
   "metadata": {
    "collapsed": false
   },
   "outputs": [
    {
     "name": "stderr",
     "output_type": "stream",
     "text": [
      "C:\\Users\\Hong Xu\\AppData\\Local\\Continuum\\Anaconda\\lib\\site-packages\\IPython\\kernel\\__main__.py:5: SettingWithCopyWarning: \n",
      "A value is trying to be set on a copy of a slice from a DataFrame\n",
      "\n",
      "See the the caveats in the documentation: http://pandas.pydata.org/pandas-docs/stable/indexing.html#indexing-view-versus-copy\n",
      "C:\\Users\\Hong Xu\\AppData\\Local\\Continuum\\Anaconda\\lib\\site-packages\\IPython\\kernel\\__main__.py:8: SettingWithCopyWarning: \n",
      "A value is trying to be set on a copy of a slice from a DataFrame\n",
      "\n",
      "See the the caveats in the documentation: http://pandas.pydata.org/pandas-docs/stable/indexing.html#indexing-view-versus-copy\n"
     ]
    },
    {
     "name": "stdout",
     "output_type": "stream",
     "text": [
      "<class 'pandas.core.frame.DataFrame'>\n",
      "Int64Index: 112524 entries, 0 to 149999\n",
      "Data columns (total 11 columns):\n",
      "serious_dlqin2yrs                              112524 non-null int64\n",
      "revolving_utilization_of_unsecured_lines       112524 non-null float64\n",
      "age                                            112524 non-null int64\n",
      "number_of_time30-59_days_past_due_not_worse    112524 non-null int64\n",
      "debt_ratio                                     112524 non-null float64\n",
      "monthly_income                                 112524 non-null float64\n",
      "number_of_open_credit_lines_and_loans          112524 non-null int64\n",
      "number_of_times90_days_late                    112524 non-null int64\n",
      "number_real_estate_loans_or_lines              112524 non-null int64\n",
      "number_of_time60-89_days_past_due_not_worse    112524 non-null int64\n",
      "number_of_dependents                           112524 non-null float64\n",
      "dtypes: float64(4), int64(7)\n",
      "memory usage: 10.3 MB\n"
     ]
    }
   ],
   "source": [
    "train_null = train[cols_x][~rows_train]\n",
    "test_null = test[cols_x][~rows_test]\n",
    "\n",
    "new_values_train = lr.predict(train_null)\n",
    "train['monthly_income'][~rows_train] = new_values_train\n",
    "\n",
    "new_values_test = lr.predict(test_null)\n",
    "test['monthly_income'][~rows_test] = new_values_test\n",
    "\n",
    "# ways to deal with the (false positive) warning\n",
    "#train.loc[~rows_train, 'monthly_income']\n"
   ]
  },
  {
   "cell_type": "code",
   "execution_count": 216,
   "metadata": {
    "collapsed": false
   },
   "outputs": [
    {
     "data": {
      "text/plain": [
       "8       3950.450121\n",
       "16      7531.592409\n",
       "32      5741.021265\n",
       "41      4605.249757\n",
       "58      6579.198173\n",
       "71      7138.712628\n",
       "86      7269.672555\n",
       "96      3950.450121\n",
       "100     4212.369976\n",
       "109    10196.015207\n",
       "118     4212.369976\n",
       "124     7400.632482\n",
       "130     5479.101411\n",
       "141     6395.820901\n",
       "143     4212.369976\n",
       "...\n",
       "149923    8317.351972\n",
       "149931    6264.860974\n",
       "149932    8710.231753\n",
       "149940    4474.289830\n",
       "149946    3950.450121\n",
       "149948    3819.490194\n",
       "149952    6972.077954\n",
       "149953    5348.141484\n",
       "149958    6133.901047\n",
       "149960    3950.450121\n",
       "149963    6883.985863\n",
       "149967    4343.329903\n",
       "149984    4343.329903\n",
       "149992    8242.405934\n",
       "149997    7312.540391\n",
       "Name: monthly_income, Length: 22148, dtype: float64"
      ]
     },
     "execution_count": 216,
     "metadata": {},
     "output_type": "execute_result"
    }
   ],
   "source": [
    "#train.describe()\n",
    "#test.describe()\n",
    "#df.describe()\n",
    "#train.to_csv(\"./data/credit-data-trainingset-hx.csv\", index=False)\n",
    "#test.to_csv(\"./data/credit-data-testset-hx.csv\", index=False)\n",
    "\n"
   ]
  },
  {
   "cell_type": "code",
   "execution_count": 138,
   "metadata": {
    "collapsed": false
   },
   "outputs": [
    {
     "data": {
      "text/plain": [
       "6     NaN\n",
       "8     NaN\n",
       "16    NaN\n",
       "32    NaN\n",
       "41    NaN\n",
       "52    NaN\n",
       "58    NaN\n",
       "62    NaN\n",
       "71    NaN\n",
       "86    NaN\n",
       "92    NaN\n",
       "96    NaN\n",
       "100   NaN\n",
       "109   NaN\n",
       "115   NaN\n",
       "...\n",
       "149946   NaN\n",
       "149948   NaN\n",
       "149952   NaN\n",
       "149953   NaN\n",
       "149958   NaN\n",
       "149960   NaN\n",
       "149963   NaN\n",
       "149965   NaN\n",
       "149967   NaN\n",
       "149975   NaN\n",
       "149976   NaN\n",
       "149977   NaN\n",
       "149984   NaN\n",
       "149992   NaN\n",
       "149997   NaN\n",
       "Name: monthly_income, Length: 29731, dtype: float64"
      ]
     },
     "execution_count": 138,
     "metadata": {},
     "output_type": "execute_result"
    }
   ],
   "source": []
  },
  {
   "cell_type": "markdown",
   "metadata": {},
   "source": [
    "##Building a Model\n",
    "Since we have a fairly large volume of data (150K), we're going to build a predictive model that will enable us to automatically score each applicant. We will provide each applicant with a credit score. This will give us an easy to interpret, human readable form of the model."
   ]
  },
  {
   "cell_type": "markdown",
   "metadata": {},
   "source": [
    "##Our Strategy\n",
    "If we're building a model, we're going to need a way to know whether or not it's working. Convincing other is oftentimes the most challenging parts of an analysis. Making repeatable, well documented work with clear success metrics makes all the difference.\n",
    "\n",
    "For our classifier, we're going to use the following build methodology:"
   ]
  },
  {
   "cell_type": "code",
   "execution_count": 6,
   "metadata": {
    "collapsed": false
   },
   "outputs": [
    {
     "data": {
      "text/html": [
       "<img src=\"https://s3.amazonaws.com/demo-datasets/traintest.png\"/>"
      ],
      "text/plain": [
       "<IPython.core.display.Image at 0x110327410>"
      ]
     },
     "execution_count": 6,
     "metadata": {},
     "output_type": "execute_result"
    }
   ],
   "source": [
    "from IPython.core.display import Image\n",
    "Image(url=\"https://s3.amazonaws.com/demo-datasets/traintest.png\")"
   ]
  },
  {
   "cell_type": "markdown",
   "metadata": {},
   "source": [
    "##Other Things to consider\n",
    "\n",
    "- [Precision and Recall](http://en.wikipedia.org/wiki/Precision_and_recall) - What good is our classifier if declines everyone?\n",
    "- [Overfitting](http://en.wikipedia.org/wiki/Overfitting) - Is your model describing noise or signal?\n",
    "- [Algorithms](http://en.wikipedia.org/wiki/Statistical_classification#Algorithms) - What type of classifiers might work in this scenario?"
   ]
  },
  {
   "cell_type": "markdown",
   "metadata": {},
   "source": [
    "##We just did the following\n",
    "\n",
    "- Determined we had a problem in which there was ample room for improvement\n",
    "- Decided we could use a predictive model to decrease losses\n",
    "- Proposed a high level workflow"
   ]
  },
  {
   "cell_type": "code",
   "execution_count": null,
   "metadata": {
    "collapsed": false
   },
   "outputs": [],
   "source": []
  }
 ],
 "metadata": {
  "kernelspec": {
   "display_name": "Python 2",
   "language": "python",
   "name": "python2"
  },
  "language_info": {
   "codemirror_mode": {
    "name": "ipython",
    "version": 2
   },
   "file_extension": ".py",
   "mimetype": "text/x-python",
   "name": "python",
   "nbconvert_exporter": "python",
   "pygments_lexer": "ipython2",
   "version": "2.7.9"
  }
 },
 "nbformat": 4,
 "nbformat_minor": 0
}
